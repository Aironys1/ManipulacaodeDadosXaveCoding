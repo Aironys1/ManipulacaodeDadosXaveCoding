{
 "cells": [
  {
   "attachments": {},
   "cell_type": "markdown",
   "metadata": {},
   "source": [
    "# Tipos de Dados"
   ]
  },
  {
   "attachments": {},
   "cell_type": "markdown",
   "metadata": {},
   "source": [
    "Esses dados se dividem em discretos e contínuos: <br> \n",
    "Os dados discretos são aqueles em que o número de valores possíveis são finitos ou “enumeráveis” <br> \n",
    "(tal como o número de cômodos em um domicílio). <br> \n",
    "Os dados contínuos resultam de infinitos valores possíveis em uma escala contínua (renda per capita)."
   ]
  },
  {
   "attachments": {},
   "cell_type": "markdown",
   "metadata": {},
   "source": [
    "<li>Numérico (Quantativo)</li>\n",
    "<li>Numéricos inteiros, geralmente associado à contagem (Discreto)</li>\n",
    "<li>Intervalo contínuo, geralmente associado à medição (Contínuo)</li>\n"
   ]
  },
  {
   "attachments": {},
   "cell_type": "markdown",
   "metadata": {},
   "source": [
    "<img style=\"border-radius: 50px; width: 600px; height: 400px; margin: auto; display: block; border: 5px solid #3510c9; \" src=\"imagens/numericasCategoricas.png\" alt=\"Imagem, Numérica e Categóricas \">\n"
   ]
  },
  {
   "attachments": {},
   "cell_type": "markdown",
   "metadata": {},
   "source": [
    "Esses dados categóricos podem ser ordinais ou nominais. <br>\n",
    "Os nominais são aqueles que não remetem a uma ordem, por exemplo, “UF”, “Gênero”, “Tipo de filme/jogo”, etc… <br>\n",
    "Já dados categóricos ordinais remetem a uma ordenação, como tamanho de roupa, classificação de algo <br>\n",
    "(1 estrela, 2 estrelas, ….), etc…  <br>"
   ]
  },
  {
   "attachments": {},
   "cell_type": "markdown",
   "metadata": {},
   "source": [
    "<li>Conjunto de valores, que representam categorias/grupos</li>\n",
    "<li>Não há uma ordem entre as categorias (Nominal)</li>\n",
    "<li>Há uma ordem entre as categorias (Ordinal)</li>"
   ]
  },
  {
   "attachments": {},
   "cell_type": "markdown",
   "metadata": {},
   "source": [
    "### Outros tipos de dados"
   ]
  },
  {
   "attachments": {},
   "cell_type": "markdown",
   "metadata": {},
   "source": [
    "Texto: String - Datas\n"
   ]
  },
  {
   "attachments": {},
   "cell_type": "markdown",
   "metadata": {},
   "source": [
    "### Identificador\n",
    "Possui apenas um único indivíduo por categoria\n",
    "ID - RG - CPF"
   ]
  },
  {
   "attachments": {},
   "cell_type": "markdown",
   "metadata": {},
   "source": [
    "### Qual é o tipo de dados para cada feature abaixo?"
   ]
  },
  {
   "attachments": {},
   "cell_type": "markdown",
   "metadata": {},
   "source": [
    " <img style=\"border-radius: 50px; width: 900px; height: 500px; margin: auto; display: block; border: 3px solid #3510c9; \" src=\"imagens/tabelaImagem.png\" alt=\"Tabela com todos os valores\">"
   ]
  },
  {
   "cell_type": "markdown",
   "metadata": {},
   "source": []
  }
 ],
 "metadata": {
  "language_info": {
   "name": "python"
  },
  "orig_nbformat": 4
 },
 "nbformat": 4,
 "nbformat_minor": 2
}
